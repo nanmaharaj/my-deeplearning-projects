{
  "cells": [
    {
      "cell_type": "markdown",
      "metadata": {
        "id": "view-in-github",
        "colab_type": "text"
      },
      "source": [
        "<a href=\"https://colab.research.google.com/github/nanmaharaj/my-deeplearning-projects/blob/main/Basic_functions.ipynb\" target=\"_parent\"><img src=\"https://colab.research.google.com/assets/colab-badge.svg\" alt=\"Open In Colab\"/></a>"
      ]
    },
    {
      "cell_type": "code",
      "execution_count": 1,
      "id": "bd3a443f",
      "metadata": {
        "id": "bd3a443f"
      },
      "outputs": [],
      "source": [
        "#ACTIVATION FUNCTIONS"
      ]
    },
    {
      "cell_type": "code",
      "execution_count": 2,
      "id": "584ed4ed",
      "metadata": {
        "id": "584ed4ed"
      },
      "outputs": [],
      "source": [
        "import math\n",
        "\n",
        "def sigmoid(x):\n",
        "    return 1/(1+math.exp(-x))"
      ]
    },
    {
      "cell_type": "code",
      "execution_count": 3,
      "id": "d7870d39",
      "metadata": {
        "colab": {
          "base_uri": "https://localhost:8080/"
        },
        "id": "d7870d39",
        "outputId": "2b1a9bed-f91a-438c-a5dc-7f2a65f9167c"
      },
      "outputs": [
        {
          "output_type": "execute_result",
          "data": {
            "text/plain": [
              "0.6224593312018546"
            ]
          },
          "metadata": {},
          "execution_count": 3
        }
      ],
      "source": [
        "sigmoid(1)\n",
        "sigmoid(100)\n",
        "sigmoid(-56)\n",
        "sigmoid(0.5)"
      ]
    },
    {
      "cell_type": "code",
      "execution_count": 4,
      "id": "36b3c7c4",
      "metadata": {
        "id": "36b3c7c4"
      },
      "outputs": [],
      "source": [
        "def tanh(x):\n",
        "    return (math.exp(x)-math.exp(-x))/(math.exp(x)+math.exp(-x))"
      ]
    },
    {
      "cell_type": "code",
      "execution_count": 5,
      "id": "012d6754",
      "metadata": {
        "colab": {
          "base_uri": "https://localhost:8080/"
        },
        "id": "012d6754",
        "outputId": "9b9eee8b-9f2a-419f-cf86-178e655795fb"
      },
      "outputs": [
        {
          "output_type": "execute_result",
          "data": {
            "text/plain": [
              "1.0"
            ]
          },
          "metadata": {},
          "execution_count": 5
        }
      ],
      "source": [
        "tanh(-56)\n",
        "tanh(1)\n",
        "tanh(50)"
      ]
    },
    {
      "cell_type": "code",
      "execution_count": 6,
      "id": "6f8933ad",
      "metadata": {
        "id": "6f8933ad"
      },
      "outputs": [],
      "source": [
        "def relu(x):\n",
        "    return max(0,x)"
      ]
    },
    {
      "cell_type": "code",
      "execution_count": 7,
      "id": "c5d566b1",
      "metadata": {
        "colab": {
          "base_uri": "https://localhost:8080/"
        },
        "id": "c5d566b1",
        "outputId": "9851fc33-600d-490b-c1ba-b791fb88eabc"
      },
      "outputs": [
        {
          "output_type": "execute_result",
          "data": {
            "text/plain": [
              "7.6"
            ]
          },
          "metadata": {},
          "execution_count": 7
        }
      ],
      "source": [
        "relu(-50)\n",
        "relu(7.6)"
      ]
    },
    {
      "cell_type": "code",
      "execution_count": 8,
      "id": "5f762f94",
      "metadata": {
        "id": "5f762f94"
      },
      "outputs": [],
      "source": [
        "def leaky_relu(x):\n",
        "    return max(0.1*x,x)"
      ]
    },
    {
      "cell_type": "code",
      "execution_count": 9,
      "id": "0de0ab32",
      "metadata": {
        "colab": {
          "base_uri": "https://localhost:8080/"
        },
        "id": "0de0ab32",
        "outputId": "d463ba8a-a827-4a09-cb28-ab00d7bf57ed"
      },
      "outputs": [
        {
          "output_type": "execute_result",
          "data": {
            "text/plain": [
              "5"
            ]
          },
          "metadata": {},
          "execution_count": 9
        }
      ],
      "source": [
        "leaky_relu(-100)\n",
        "leaky_relu(5)\n"
      ]
    },
    {
      "cell_type": "code",
      "execution_count": 10,
      "id": "f73d88e3",
      "metadata": {
        "id": "f73d88e3"
      },
      "outputs": [],
      "source": [
        "#LOSS AND COST FUNCTIONS"
      ]
    },
    {
      "cell_type": "code",
      "execution_count": 11,
      "id": "611a3d1c",
      "metadata": {
        "id": "611a3d1c"
      },
      "outputs": [],
      "source": [
        "import numpy as np\n",
        "\n",
        "y_predicted = np.array([1,1,0,0,1])\n",
        "y_true=np.array([0.3,0.7,1,0,0.5])"
      ]
    },
    {
      "cell_type": "code",
      "execution_count": 12,
      "id": "9df48708",
      "metadata": {
        "colab": {
          "base_uri": "https://localhost:8080/"
        },
        "id": "9df48708",
        "outputId": "70eeed8c-4c1d-4caa-cfe0-833e5cb421e6"
      },
      "outputs": [
        {
          "output_type": "stream",
          "name": "stdout",
          "text": [
            "Total error: 2.5\n",
            "MAE: 0.5\n"
          ]
        },
        {
          "output_type": "execute_result",
          "data": {
            "text/plain": [
              "0.5"
            ]
          },
          "metadata": {},
          "execution_count": 12
        }
      ],
      "source": [
        "#Mean Absolute Error\n",
        "\n",
        "def mae(ytrue,ypred):\n",
        "    total_error=0\n",
        "    for yt,yp in zip(ytrue,ypred):\n",
        "        total_error+=abs(yt-yp)\n",
        "\n",
        "    print(\"Total error:\",total_error)\n",
        "\n",
        "    mae=total_error/len(y_true)\n",
        "    print(\"MAE:\",mae)\n",
        "\n",
        "    return mae\n",
        "\n",
        "mae(y_true,y_predicted)"
      ]
    },
    {
      "cell_type": "code",
      "execution_count": 13,
      "id": "c604274c",
      "metadata": {
        "colab": {
          "base_uri": "https://localhost:8080/"
        },
        "id": "c604274c",
        "outputId": "44d56b0a-2327-46ed-c4a0-738e99ee9bc8"
      },
      "outputs": [
        {
          "output_type": "execute_result",
          "data": {
            "text/plain": [
              "0.5"
            ]
          },
          "metadata": {},
          "execution_count": 13
        }
      ],
      "source": [
        "np.mean(np.abs(y_predicted-y_true))"
      ]
    },
    {
      "cell_type": "code",
      "execution_count": 14,
      "id": "adfc9792",
      "metadata": {
        "colab": {
          "base_uri": "https://localhost:8080/"
        },
        "id": "adfc9792",
        "outputId": "baf18e52-af93-4cc4-b735-960df53522bd"
      },
      "outputs": [
        {
          "output_type": "execute_result",
          "data": {
            "text/plain": [
              "[1, 1, 1e-15, 1e-15, 1]"
            ]
          },
          "metadata": {},
          "execution_count": 14
        }
      ],
      "source": [
        "#LOG LOSS FUNCTION\n",
        "\n",
        "#since log(0) id undefined\n",
        "epsilon=1e-15\n",
        "y_pred_new=[max(i,epsilon) for i in y_predicted]\n",
        "y_pred_new"
      ]
    },
    {
      "cell_type": "code",
      "execution_count": 15,
      "id": "9f14f184",
      "metadata": {
        "colab": {
          "base_uri": "https://localhost:8080/"
        },
        "id": "9f14f184",
        "outputId": "463a8401-3da7-40c1-d1ff-85bb60b42200"
      },
      "outputs": [
        {
          "output_type": "execute_result",
          "data": {
            "text/plain": [
              "array([1.e+00, 1.e+00, 1.e-15, 1.e-15, 1.e+00])"
            ]
          },
          "metadata": {},
          "execution_count": 15
        }
      ],
      "source": [
        "y_pred_new=[min(i,1-epsilon) for i in y_pred_new]\n",
        "y_pred_new=np.array(y_pred_new)\n",
        "y_pred_new"
      ]
    },
    {
      "cell_type": "code",
      "execution_count": 16,
      "id": "81382ed1",
      "metadata": {
        "colab": {
          "base_uri": "https://localhost:8080/"
        },
        "id": "81382ed1",
        "outputId": "fe71c30d-62f0-4cc8-bdfb-4e27b8a9b506"
      },
      "outputs": [
        {
          "output_type": "execute_result",
          "data": {
            "text/plain": [
              "17.2696280766844"
            ]
          },
          "metadata": {},
          "execution_count": 16
        }
      ],
      "source": [
        "-np.mean(y_true*np.log(y_pred_new)+(1-y_true)*np.log(1-y_pred_new))"
      ]
    },
    {
      "cell_type": "code",
      "execution_count": 17,
      "id": "e6d59561",
      "metadata": {
        "id": "e6d59561"
      },
      "outputs": [],
      "source": [
        "#Final Log Loss\n",
        "\n",
        "def log_loss(y_true,y_pred):\n",
        "    epsilon=1e-15\n",
        "    y_pred_new=[max(i,epsilon) for i in y_pred]\n",
        "    y_pred_new=[min(i,1-epsilon) for i in y_pred_new]\n",
        "    y_pred_new=np.array(y_pred_new)\n",
        "    return -np.mean(y_true*np.log(y_pred_new)+(1-y_true)*np.log(1-y_pred_new))\n",
        ""
      ]
    },
    {
      "cell_type": "code",
      "execution_count": 18,
      "id": "161919c8",
      "metadata": {
        "colab": {
          "base_uri": "https://localhost:8080/"
        },
        "id": "161919c8",
        "outputId": "e17d1de6-0b8c-4714-f1bd-f0f4c8870a5f"
      },
      "outputs": [
        {
          "output_type": "stream",
          "name": "stdout",
          "text": [
            "Total error: 1.83\n",
            "MSE: 0.366\n"
          ]
        },
        {
          "output_type": "execute_result",
          "data": {
            "text/plain": [
              "0.366"
            ]
          },
          "metadata": {},
          "execution_count": 18
        }
      ],
      "source": [
        "#Mean Squared Error\n",
        "\n",
        "def mse(ytrue,ypred):\n",
        "    total_error=0\n",
        "    for yt,yp in zip(ytrue,ypred):\n",
        "        total_error+=((yt-yp)**2)\n",
        "\n",
        "    print(\"Total error:\",total_error)\n",
        "\n",
        "    mse=total_error/len(y_true)\n",
        "    print(\"MSE:\",mse)\n",
        "\n",
        "    return mse\n",
        "\n",
        "mse(y_true,y_predicted)"
      ]
    },
    {
      "cell_type": "code",
      "execution_count": 19,
      "id": "502ab43f",
      "metadata": {
        "colab": {
          "base_uri": "https://localhost:8080/"
        },
        "id": "502ab43f",
        "outputId": "35ef9c85-4dfe-4a26-9e56-284d3c478dcb"
      },
      "outputs": [
        {
          "output_type": "execute_result",
          "data": {
            "text/plain": [
              "0.366"
            ]
          },
          "metadata": {},
          "execution_count": 19
        }
      ],
      "source": [
        "np.mean(np.power(y_predicted-y_true,2))"
      ]
    }
  ],
  "metadata": {
    "kernelspec": {
      "display_name": "Python 3 (ipykernel)",
      "language": "python",
      "name": "python3"
    },
    "language_info": {
      "codemirror_mode": {
        "name": "ipython",
        "version": 3
      },
      "file_extension": ".py",
      "mimetype": "text/x-python",
      "name": "python",
      "nbconvert_exporter": "python",
      "pygments_lexer": "ipython3",
      "version": "3.10.4"
    },
    "colab": {
      "provenance": [],
      "include_colab_link": true
    }
  },
  "nbformat": 4,
  "nbformat_minor": 5
}
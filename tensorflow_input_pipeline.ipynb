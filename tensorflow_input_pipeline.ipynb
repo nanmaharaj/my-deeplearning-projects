{
  "nbformat": 4,
  "nbformat_minor": 0,
  "metadata": {
    "colab": {
      "provenance": [],
      "mount_file_id": "1UYb_3MvGhVb2muI3Ik4SkR7-NcM72aYW",
      "authorship_tag": "ABX9TyPG9xfv5NOSvR3sSZ+h/g6a",
      "include_colab_link": true
    },
    "kernelspec": {
      "name": "python3",
      "display_name": "Python 3"
    },
    "language_info": {
      "name": "python"
    }
  },
  "cells": [
    {
      "cell_type": "markdown",
      "metadata": {
        "id": "view-in-github",
        "colab_type": "text"
      },
      "source": [
        "<a href=\"https://colab.research.google.com/github/nanmaharaj/my-deeplearning-projects/blob/main/tensorflow_input_pipeline.ipynb\" target=\"_parent\"><img src=\"https://colab.research.google.com/assets/colab-badge.svg\" alt=\"Open In Colab\"/></a>"
      ]
    },
    {
      "cell_type": "code",
      "execution_count": 35,
      "metadata": {
        "id": "1ocZ5HVCyTLF"
      },
      "outputs": [],
      "source": [
        "import tensorflow as tf"
      ]
    },
    {
      "cell_type": "code",
      "source": [
        "daily_sales_numbers=[21,22,-108,31,-1,32,34,31]"
      ],
      "metadata": {
        "id": "iICuVwgE-Zmv"
      },
      "execution_count": 36,
      "outputs": []
    },
    {
      "cell_type": "code",
      "source": [
        "tf_dataset=tf.data.Dataset.from_tensor_slices(daily_sales_numbers)\n",
        "tf_dataset"
      ],
      "metadata": {
        "colab": {
          "base_uri": "https://localhost:8080/"
        },
        "id": "4ETBkmYf-uw6",
        "outputId": "74879816-9906-4aa9-d754-1e65572ec2cd"
      },
      "execution_count": 37,
      "outputs": [
        {
          "output_type": "execute_result",
          "data": {
            "text/plain": [
              "<_TensorSliceDataset element_spec=TensorSpec(shape=(), dtype=tf.int32, name=None)>"
            ]
          },
          "metadata": {},
          "execution_count": 37
        }
      ]
    },
    {
      "cell_type": "code",
      "source": [
        "for sales in tf_dataset:\n",
        "  print(sales)\n",
        "  print(sales.numpy())\n",
        "\n",
        "for sales in tf_dataset.as_numpy_iterator():\n",
        "  print(sales)"
      ],
      "metadata": {
        "colab": {
          "base_uri": "https://localhost:8080/"
        },
        "id": "OASBbb61_zGV",
        "outputId": "acddb8bd-7555-4635-9a15-48e8c5b09a69"
      },
      "execution_count": 38,
      "outputs": [
        {
          "output_type": "stream",
          "name": "stdout",
          "text": [
            "tf.Tensor(21, shape=(), dtype=int32)\n",
            "21\n",
            "tf.Tensor(22, shape=(), dtype=int32)\n",
            "22\n",
            "tf.Tensor(-108, shape=(), dtype=int32)\n",
            "-108\n",
            "tf.Tensor(31, shape=(), dtype=int32)\n",
            "31\n",
            "tf.Tensor(-1, shape=(), dtype=int32)\n",
            "-1\n",
            "tf.Tensor(32, shape=(), dtype=int32)\n",
            "32\n",
            "tf.Tensor(34, shape=(), dtype=int32)\n",
            "34\n",
            "tf.Tensor(31, shape=(), dtype=int32)\n",
            "31\n",
            "21\n",
            "22\n",
            "-108\n",
            "31\n",
            "-1\n",
            "32\n",
            "34\n",
            "31\n"
          ]
        }
      ]
    },
    {
      "cell_type": "code",
      "source": [
        "for sales in tf_dataset.take(3):\n",
        "  print(sales.numpy())"
      ],
      "metadata": {
        "colab": {
          "base_uri": "https://localhost:8080/"
        },
        "id": "8NqbfUUCAW38",
        "outputId": "4ddb8361-42b2-44e5-f3d7-044c983fbda0"
      },
      "execution_count": 39,
      "outputs": [
        {
          "output_type": "stream",
          "name": "stdout",
          "text": [
            "21\n",
            "22\n",
            "-108\n"
          ]
        }
      ]
    },
    {
      "cell_type": "code",
      "source": [
        "tf_dataset=tf_dataset.filter(lambda x: x>0)\n",
        "for sales in tf_dataset.as_numpy_iterator():\n",
        "  print(sales)"
      ],
      "metadata": {
        "colab": {
          "base_uri": "https://localhost:8080/"
        },
        "id": "gvXLsifaA99s",
        "outputId": "9d91ec88-cb96-425e-8441-e77dfefe04a1"
      },
      "execution_count": 40,
      "outputs": [
        {
          "output_type": "stream",
          "name": "stdout",
          "text": [
            "21\n",
            "22\n",
            "31\n",
            "32\n",
            "34\n",
            "31\n"
          ]
        }
      ]
    },
    {
      "cell_type": "code",
      "source": [
        "tf_dataset=tf_dataset.map(lambda x: x*72)\n",
        "for sales in tf_dataset.as_numpy_iterator():\n",
        "  print(sales)"
      ],
      "metadata": {
        "colab": {
          "base_uri": "https://localhost:8080/"
        },
        "id": "IOzFcmDnBrZy",
        "outputId": "272ae30a-eb37-4438-de95-f94c1c24ef2e"
      },
      "execution_count": 41,
      "outputs": [
        {
          "output_type": "stream",
          "name": "stdout",
          "text": [
            "1512\n",
            "1584\n",
            "2232\n",
            "2304\n",
            "2448\n",
            "2232\n"
          ]
        }
      ]
    },
    {
      "cell_type": "code",
      "source": [
        "tf_dataset=tf_dataset.shuffle(3)\n",
        "for sales in tf_dataset.as_numpy_iterator():\n",
        "  print(sales)"
      ],
      "metadata": {
        "colab": {
          "base_uri": "https://localhost:8080/"
        },
        "id": "STYulNg7B6se",
        "outputId": "07ee98c9-f387-4332-b739-7a7fc1682cae"
      },
      "execution_count": 42,
      "outputs": [
        {
          "output_type": "stream",
          "name": "stdout",
          "text": [
            "1584\n",
            "1512\n",
            "2448\n",
            "2232\n",
            "2304\n",
            "2232\n"
          ]
        }
      ]
    },
    {
      "cell_type": "code",
      "source": [
        "for sales_batch in tf_dataset.batch(3):\n",
        "  print(sales_batch.numpy())"
      ],
      "metadata": {
        "colab": {
          "base_uri": "https://localhost:8080/"
        },
        "id": "PjZZmj5nCQTM",
        "outputId": "a4266629-75d4-4bde-fe6c-4b285c45c445"
      },
      "execution_count": 43,
      "outputs": [
        {
          "output_type": "stream",
          "name": "stdout",
          "text": [
            "[2232 1584 2304]\n",
            "[2232 1512 2448]\n"
          ]
        }
      ]
    },
    {
      "cell_type": "code",
      "source": [
        "tf_dataset=tf.data.Dataset.from_tensor_slices(daily_sales_numbers)\n",
        "tf_dataset=tf_dataset.filter(lambda x: x>0).map(lambda y: y*72).shuffle(2).batch(2)\n",
        "tf_dataset"
      ],
      "metadata": {
        "colab": {
          "base_uri": "https://localhost:8080/"
        },
        "id": "v6cRfHGeCYmZ",
        "outputId": "e61bfa90-d8e1-43d3-f6d8-da281e240dca"
      },
      "execution_count": 44,
      "outputs": [
        {
          "output_type": "execute_result",
          "data": {
            "text/plain": [
              "<_BatchDataset element_spec=TensorSpec(shape=(None,), dtype=tf.int32, name=None)>"
            ]
          },
          "metadata": {},
          "execution_count": 44
        }
      ]
    },
    {
      "cell_type": "code",
      "source": [
        "images_ds=tf.data.Dataset.list_files('/content/drive/MyDrive/images/*/*',shuffle=False)"
      ],
      "metadata": {
        "id": "4z02Sw-DFGNe"
      },
      "execution_count": 45,
      "outputs": []
    },
    {
      "cell_type": "code",
      "source": [
        "for file in images_ds.take(3):\n",
        "  print(file.numpy())"
      ],
      "metadata": {
        "id": "ThTev6OcFKua",
        "colab": {
          "base_uri": "https://localhost:8080/"
        },
        "outputId": "d4ee73a5-3a70-478a-c561-14292af1731b"
      },
      "execution_count": 46,
      "outputs": [
        {
          "output_type": "stream",
          "name": "stdout",
          "text": [
            "b'/content/drive/MyDrive/images/cat/00tb-cats1-mediumSquareAt3X.jpg'\n",
            "b'/content/drive/MyDrive/images/cat/07CAT-STRIPES-mediumSquareAt3X-v2.jpg'\n",
            "b'/content/drive/MyDrive/images/cat/1200px-Cat_August_2010-4.jpg'\n"
          ]
        }
      ]
    },
    {
      "cell_type": "code",
      "source": [
        "class_names=[\"cat\",\"dog\"]"
      ],
      "metadata": {
        "id": "fvHnQ5QaKQDp"
      },
      "execution_count": 47,
      "outputs": []
    },
    {
      "cell_type": "code",
      "source": [
        "image_count=len(images_ds)\n",
        "image_count"
      ],
      "metadata": {
        "colab": {
          "base_uri": "https://localhost:8080/"
        },
        "id": "43WKWSnSKYZ1",
        "outputId": "1702592b-95fe-43d3-bdb9-407c87c60a9d"
      },
      "execution_count": 48,
      "outputs": [
        {
          "output_type": "execute_result",
          "data": {
            "text/plain": [
              "191"
            ]
          },
          "metadata": {},
          "execution_count": 48
        }
      ]
    },
    {
      "cell_type": "code",
      "source": [
        "train_size=int(image_count*0.8)\n",
        "\n",
        "train_ds=images_ds.take(train_size)\n",
        "test_ds=images_ds.skip(train_size)"
      ],
      "metadata": {
        "id": "fixB96n5K2k3"
      },
      "execution_count": 49,
      "outputs": []
    },
    {
      "cell_type": "code",
      "source": [
        "len(train_ds),len(test_ds)"
      ],
      "metadata": {
        "colab": {
          "base_uri": "https://localhost:8080/"
        },
        "id": "93_s0dT8LKdv",
        "outputId": "87c48df9-9a21-412c-faf2-d243bb664b4a"
      },
      "execution_count": 50,
      "outputs": [
        {
          "output_type": "execute_result",
          "data": {
            "text/plain": [
              "(152, 39)"
            ]
          },
          "metadata": {},
          "execution_count": 50
        }
      ]
    },
    {
      "cell_type": "code",
      "source": [
        "s='/content/drive/MyDrive/images/cat/00tb-cats1-mediumSquareAt3X.jpg'\n",
        "\n",
        "s.split(\"/\")[-2]"
      ],
      "metadata": {
        "colab": {
          "base_uri": "https://localhost:8080/",
          "height": 35
        },
        "id": "W8vu1OHWLRMR",
        "outputId": "d9cd630d-cc8b-4ccf-fa16-aa711538dafb"
      },
      "execution_count": 53,
      "outputs": [
        {
          "output_type": "execute_result",
          "data": {
            "text/plain": [
              "'cat'"
            ],
            "application/vnd.google.colaboratory.intrinsic+json": {
              "type": "string"
            }
          },
          "metadata": {},
          "execution_count": 53
        }
      ]
    },
    {
      "cell_type": "code",
      "source": [
        "import os\n",
        "def get_label(file_path):\n",
        "  return tf.strings.split(file_path, os.path.sep)[-2]"
      ],
      "metadata": {
        "id": "ccqyMXb5MOKV"
      },
      "execution_count": 55,
      "outputs": []
    },
    {
      "cell_type": "code",
      "source": [
        "def process_image(file_path):\n",
        "  label=get_label(file_path)\n",
        "\n",
        "  img=tf.io.read_file(file_path)\n",
        "  img=tf.image.decode_jpeg(img)\n",
        "  img=tf.image.resize(img,(128,128))\n",
        "\n",
        "  return img,label"
      ],
      "metadata": {
        "id": "RVc8TK9qNMkG"
      },
      "execution_count": 61,
      "outputs": []
    },
    {
      "cell_type": "code",
      "source": [
        "train_ds=train_ds.map(process_image)\n",
        "for img,label in train_ds.take(3):\n",
        "  print(\"Image:\", img)\n",
        "  print(\"Label:\",label)"
      ],
      "metadata": {
        "colab": {
          "base_uri": "https://localhost:8080/"
        },
        "id": "Q3Yx7j8FMgVl",
        "outputId": "338d91f9-9352-4449-a9e3-f623a6845fff"
      },
      "execution_count": 63,
      "outputs": [
        {
          "output_type": "stream",
          "name": "stdout",
          "text": [
            "Image: tf.Tensor(\n",
            "[[[ 71.30945     34.30945     18.309448  ]\n",
            "  [ 73.259155    31.259155    15.259155  ]\n",
            "  [ 74.15234     28.152344    13.152344  ]\n",
            "  ...\n",
            "  [207.9176      74.9176       0.52770996]\n",
            "  [209.43481     78.434814     0.        ]\n",
            "  [211.35461     80.354614     2.3546143 ]]\n",
            "\n",
            " [[ 72.74341     30.743408    14.743408  ]\n",
            "  [ 77.          31.          16.        ]\n",
            "  [ 76.8136      30.813599    14.813599  ]\n",
            "  ...\n",
            "  [209.26172     75.26172      2.2617188 ]\n",
            "  [206.45691     71.6405       0.        ]\n",
            "  [209.41919     77.41919      2.4191895 ]]\n",
            "\n",
            " [[ 75.35901     30.331665    15.007446  ]\n",
            "  [ 79.59375     32.59375     16.59375   ]\n",
            "  [ 79.          32.          14.        ]\n",
            "  ...\n",
            "  [203.67578     73.67578      0.        ]\n",
            "  [204.8125      72.8125       0.        ]\n",
            "  [209.          72.           0.        ]]\n",
            "\n",
            " ...\n",
            "\n",
            " [[  4.           0.           0.        ]\n",
            "  [  5.6757812    1.           0.        ]\n",
            "  [  5.           1.           0.        ]\n",
            "  ...\n",
            "  [ 19.039062    14.6953125   32.765625  ]\n",
            "  [ 32.401123    28.725342    62.428467  ]\n",
            "  [ 34.822754    26.79541     56.18921   ]]\n",
            "\n",
            " [[ 27.209595     2.8150635    0.60546875]\n",
            "  [ 24.023315     1.8397217    0.        ]\n",
            "  [ 24.183594     1.2109375    0.        ]\n",
            "  ...\n",
            "  [ 18.186401     8.186401    17.186401  ]\n",
            "  [ 15.812378     6.628784    20.023315  ]\n",
            "  [ 12.7265625    8.7265625   23.726562  ]]\n",
            "\n",
            " [[ 39.464844     1.4648438    0.        ]\n",
            "  [ 42.40625      3.40625      0.        ]\n",
            "  [ 44.           3.           0.        ]\n",
            "  ...\n",
            "  [ 11.535156     4.5351562   11.535156  ]\n",
            "  [ 11.0703125    4.0703125   11.0703125 ]\n",
            "  [  9.           2.9296875    9.464844  ]]], shape=(128, 128, 3), dtype=float32)\n",
            "Label: tf.Tensor(b'cat', shape=(), dtype=string)\n",
            "Image: tf.Tensor(\n",
            "[[[165.40723  121.40723  112.40723 ]\n",
            "  [166.74707  122.74707  113.74707 ]\n",
            "  [169.71875  125.71875  116.71875 ]\n",
            "  ...\n",
            "  [122.666016 132.66602  141.66602 ]\n",
            "  [144.59668  158.59668  169.97754 ]\n",
            "  [154.9375   170.9375   185.9375  ]]\n",
            "\n",
            " [[169.50293  126.50293  120.50293 ]\n",
            "  [174.78125  129.       120.59375 ]\n",
            "  [174.25     130.25     121.25    ]\n",
            "  ...\n",
            "  [ 84.487305  89.15625   87.12695 ]\n",
            "  [116.86621  125.27246  129.08496 ]\n",
            "  [136.31543  153.31543  161.31543 ]]\n",
            "\n",
            " [[170.96875  129.96875  123.96875 ]\n",
            "  [174.65625  130.65625  121.65625 ]\n",
            "  [178.22559  134.22559  125.225586]\n",
            "  ...\n",
            "  [ 50.805664  52.461914  42.493164]\n",
            "  [ 71.82715   75.6582    70.32715 ]\n",
            "  [106.96875  115.65625  117.65625 ]]\n",
            "\n",
            " ...\n",
            "\n",
            " [[ 57.057617  57.057617  55.057617]\n",
            "  [111.1416   110.1416   106.1416  ]\n",
            "  [116.711914 114.711914 115.711914]\n",
            "  ...\n",
            "  [ 42.569336  58.569336  74.569336]\n",
            "  [ 40.65625   56.65625   72.65625 ]\n",
            "  [ 38.963867  55.963867  71.96387 ]]\n",
            "\n",
            " [[ 45.78418   45.78418   45.78418 ]\n",
            "  [ 57.64746   57.64746   49.64746 ]\n",
            "  [ 41.4375    40.4375    35.4375  ]\n",
            "  ...\n",
            "  [ 44.45215   60.45215   76.45215 ]\n",
            "  [ 37.75879   54.75879   70.75879 ]\n",
            "  [ 37.8125    54.8125    70.8125  ]]\n",
            "\n",
            " [[ 53.        53.        53.      ]\n",
            "  [ 62.80371   63.80371   58.80371 ]\n",
            "  [ 78.59863   79.59863   74.59863 ]\n",
            "  ...\n",
            "  [ 41.65625   58.65625   74.65625 ]\n",
            "  [ 39.        56.        72.      ]\n",
            "  [ 37.53125   56.53125   71.53125 ]]], shape=(128, 128, 3), dtype=float32)\n",
            "Label: tf.Tensor(b'cat', shape=(), dtype=string)\n",
            "Image: tf.Tensor(\n",
            "[[[239.06885 239.06885 239.06885]\n",
            "  [240.      240.      240.     ]\n",
            "  [237.36719 237.36719 237.36719]\n",
            "  ...\n",
            "  [236.63281 236.63281 236.63281]\n",
            "  [236.      236.      236.     ]\n",
            "  [238.56396 238.56396 238.56396]]\n",
            "\n",
            " [[238.83154 238.83154 238.83154]\n",
            "  [240.30225 240.30225 240.30225]\n",
            "  [239.      239.      239.     ]\n",
            "  ...\n",
            "  [234.0625  234.0625  234.0625 ]\n",
            "  [236.89844 236.89844 236.89844]\n",
            "  [238.62842 238.62842 238.62842]]\n",
            "\n",
            " [[239.      239.      239.     ]\n",
            "  [238.32812 238.32812 238.32812]\n",
            "  [239.      239.      239.     ]\n",
            "  ...\n",
            "  [234.0625  234.0625  234.0625 ]\n",
            "  [236.03271 236.03271 236.03271]\n",
            "  [235.5459  235.5459  235.5459 ]]\n",
            "\n",
            " ...\n",
            "\n",
            " [[200.57764 201.57764 203.57764]\n",
            "  [202.20996 201.20996 199.20996]\n",
            "  [208.5625  209.39844 204.89062]\n",
            "  ...\n",
            "  [228.68799 229.01611 228.85205]\n",
            "  [229.09229 229.09229 229.42041]\n",
            "  [228.83594 228.83594 228.50781]]\n",
            "\n",
            " [[185.08105 186.08105 188.08105]\n",
            "  [203.2544  202.2544  200.2544 ]\n",
            "  [205.99365 205.99365 203.99365]\n",
            "  ...\n",
            "  [229.71729 231.71729 230.71729]\n",
            "  [230.79688 230.79688 232.79688]\n",
            "  [226.16504 226.16504 224.16504]]\n",
            "\n",
            " [[189.01904 190.01904 192.01904]\n",
            "  [201.88281 200.88281 198.88281]\n",
            "  [201.08545 201.08545 199.08545]\n",
            "  ...\n",
            "  [230.6001  232.6001  231.6001 ]\n",
            "  [229.64404 229.64404 231.64404]\n",
            "  [229.65186 229.65186 227.65186]]], shape=(128, 128, 3), dtype=float32)\n",
            "Label: tf.Tensor(b'cat', shape=(), dtype=string)\n"
          ]
        }
      ]
    },
    {
      "cell_type": "code",
      "source": [
        "def scale(image, label):\n",
        "  return image/255, label"
      ],
      "metadata": {
        "id": "tAhjpAWeND4J"
      },
      "execution_count": 64,
      "outputs": []
    },
    {
      "cell_type": "code",
      "source": [
        "train_ds=train_ds.map(scale)\n",
        "for img,label in train_ds.take(3):\n",
        "  print(\"Image:\", img)\n",
        "  print(\"Label:\",label)"
      ],
      "metadata": {
        "colab": {
          "base_uri": "https://localhost:8080/"
        },
        "id": "QoJmfPBnOwyP",
        "outputId": "540b1f15-1970-42bd-b188-e13ad4a02119"
      },
      "execution_count": 65,
      "outputs": [
        {
          "output_type": "stream",
          "name": "stdout",
          "text": [
            "Image: tf.Tensor(\n",
            "[[[0.2796449  0.13454686 0.07180176]\n",
            "  [0.2872908  0.12258492 0.05983983]\n",
            "  [0.2907935  0.11040135 0.05157782]\n",
            "  ...\n",
            "  [0.81536317 0.2937945  0.00206945]\n",
            "  [0.821313   0.3075875  0.        ]\n",
            "  [0.8288416  0.31511614 0.00923378]]\n",
            "\n",
            " [[0.28526828 0.12056238 0.05781729]\n",
            "  [0.3019608  0.12156863 0.0627451 ]\n",
            "  [0.3012298  0.12083764 0.05809254]\n",
            "  ...\n",
            "  [0.8206342  0.295144   0.00886948]\n",
            "  [0.8096349  0.28094316 0.        ]\n",
            "  [0.82125175 0.30360466 0.00948702]]\n",
            "\n",
            " [[0.29552552 0.11894771 0.05885273]\n",
            "  [0.31213236 0.12781863 0.06507353]\n",
            "  [0.30980393 0.1254902  0.05490196]\n",
            "  ...\n",
            "  [0.7987285  0.28892463 0.        ]\n",
            "  [0.8031863  0.2855392  0.        ]\n",
            "  [0.81960785 0.28235295 0.        ]]\n",
            "\n",
            " ...\n",
            "\n",
            " [[0.01568628 0.         0.        ]\n",
            "  [0.02225797 0.00392157 0.        ]\n",
            "  [0.01960784 0.00392157 0.        ]\n",
            "  ...\n",
            "  [0.07466299 0.05762868 0.12849265]\n",
            "  [0.12706323 0.1126484  0.24481751]\n",
            "  [0.13655981 0.10508004 0.22034983]]\n",
            "\n",
            " [[0.10670429 0.01103946 0.00237439]\n",
            "  [0.09420908 0.00721459 0.        ]\n",
            "  [0.09483762 0.00474877 0.        ]\n",
            "  ...\n",
            "  [0.07131922 0.03210353 0.06739765]\n",
            "  [0.06200932 0.02599523 0.07852281]\n",
            "  [0.04990809 0.03422181 0.09304535]]\n",
            "\n",
            " [[0.15476409 0.00574449 0.        ]\n",
            "  [0.16629902 0.01335784 0.        ]\n",
            "  [0.17254902 0.01176471 0.        ]\n",
            "  ...\n",
            "  [0.04523591 0.01778493 0.04523591]\n",
            "  [0.04341299 0.01596201 0.04341299]\n",
            "  [0.03529412 0.01148897 0.03711703]]], shape=(128, 128, 3), dtype=float32)\n",
            "Label: tf.Tensor(b'cat', shape=(), dtype=string)\n",
            "Image: tf.Tensor(\n",
            "[[[0.6486558  0.47610676 0.44081265]\n",
            "  [0.6539101  0.48136106 0.44606695]\n",
            "  [0.6655637  0.4930147  0.45772058]\n",
            "  ...\n",
            "  [0.4810432  0.5202589  0.555553  ]\n",
            "  [0.5670458  0.62194777 0.6665786 ]\n",
            "  [0.60759807 0.67034316 0.7291667 ]]\n",
            "\n",
            " [[0.6647174  0.4960899  0.4725605 ]\n",
            "  [0.68541664 0.5058824  0.47291666]\n",
            "  [0.68333334 0.5107843  0.47549018]\n",
            "  ...\n",
            "  [0.33132276 0.34963235 0.34167433]\n",
            "  [0.45829886 0.49126455 0.5062155 ]\n",
            "  [0.53457034 0.601237   0.63260955]]\n",
            "\n",
            " [[0.6704657  0.50968134 0.48615196]\n",
            "  [0.68492645 0.51237744 0.47708333]\n",
            "  [0.6989239  0.5263749  0.49108073]\n",
            "  ...\n",
            "  [0.1992379  0.205733   0.16663986]\n",
            "  [0.2816751  0.29669884 0.27579275]\n",
            "  [0.4194853  0.45355392 0.46139705]]\n",
            "\n",
            " ...\n",
            "\n",
            " [[0.22375536 0.22375536 0.21591222]\n",
            "  [0.43584943 0.43192786 0.4162416 ]\n",
            "  [0.4576938  0.44985065 0.45377222]\n",
            "  ...\n",
            "  [0.16693857 0.22968367 0.29242876]\n",
            "  [0.15943627 0.22218138 0.28492647]\n",
            "  [0.15279947 0.21946615 0.28221124]]\n",
            "\n",
            " [[0.1795458  0.1795458  0.1795458 ]\n",
            "  [0.22606847 0.22606847 0.19469592]\n",
            "  [0.1625     0.15857843 0.13897058]\n",
            "  ...\n",
            "  [0.17432216 0.23706725 0.29981235]\n",
            "  [0.14807369 0.21474035 0.27748546]\n",
            "  [0.14828432 0.21495098 0.27769607]]\n",
            "\n",
            " [[0.20784314 0.20784314 0.20784314]\n",
            "  [0.24628906 0.25021064 0.23060279]\n",
            "  [0.30822992 0.3121515  0.29254365]\n",
            "  ...\n",
            "  [0.16335784 0.23002452 0.2927696 ]\n",
            "  [0.15294118 0.21960784 0.28235295]\n",
            "  [0.14718138 0.22169118 0.28051472]]], shape=(128, 128, 3), dtype=float32)\n",
            "Label: tf.Tensor(b'cat', shape=(), dtype=string)\n",
            "Image: tf.Tensor(\n",
            "[[[0.9375249  0.9375249  0.9375249 ]\n",
            "  [0.9411765  0.9411765  0.9411765 ]\n",
            "  [0.9308517  0.9308517  0.9308517 ]\n",
            "  ...\n",
            "  [0.92797184 0.92797184 0.92797184]\n",
            "  [0.9254902  0.9254902  0.9254902 ]\n",
            "  [0.93554497 0.93554497 0.93554497]]\n",
            "\n",
            " [[0.9365943  0.9365943  0.9365943 ]\n",
            "  [0.9423618  0.9423618  0.9423618 ]\n",
            "  [0.9372549  0.9372549  0.9372549 ]\n",
            "  ...\n",
            "  [0.91789216 0.91789216 0.91789216]\n",
            "  [0.9290135  0.9290135  0.9290135 ]\n",
            "  [0.9357977  0.9357977  0.9357977 ]]\n",
            "\n",
            " [[0.9372549  0.9372549  0.9372549 ]\n",
            "  [0.9346201  0.9346201  0.9346201 ]\n",
            "  [0.9372549  0.9372549  0.9372549 ]\n",
            "  ...\n",
            "  [0.91789216 0.91789216 0.91789216]\n",
            "  [0.92561847 0.92561847 0.92561847]\n",
            "  [0.9237094  0.9237094  0.9237094 ]]\n",
            "\n",
            " ...\n",
            "\n",
            " [[0.78657895 0.7905005  0.79834366]\n",
            "  [0.79298025 0.7890587  0.78121555]\n",
            "  [0.81789213 0.82117033 0.80349267]\n",
            "  ...\n",
            "  [0.89681566 0.8981024  0.89745903]\n",
            "  [0.89840114 0.89840114 0.8996879 ]\n",
            "  [0.89739585 0.89739585 0.89610904]]\n",
            "\n",
            " [[0.7258081  0.72972965 0.7375728 ]\n",
            "  [0.79707605 0.7931545  0.78531134]\n",
            "  [0.80781823 0.80781823 0.7999751 ]\n",
            "  ...\n",
            "  [0.9008521  0.9086952  0.90477365]\n",
            "  [0.9050858  0.9050858  0.91292894]\n",
            "  [0.8869217  0.8869217  0.87907857]]\n",
            "\n",
            " [[0.7412512  0.74517274 0.7530159 ]\n",
            "  [0.7916973  0.78777575 0.7799326 ]\n",
            "  [0.7885704  0.7885704  0.78072727]\n",
            "  ...\n",
            "  [0.9043141  0.91215724 0.90823567]\n",
            "  [0.90056485 0.90056485 0.908408  ]\n",
            "  [0.9005955  0.9005955  0.89275235]]], shape=(128, 128, 3), dtype=float32)\n",
            "Label: tf.Tensor(b'cat', shape=(), dtype=string)\n"
          ]
        }
      ]
    }
  ]
}
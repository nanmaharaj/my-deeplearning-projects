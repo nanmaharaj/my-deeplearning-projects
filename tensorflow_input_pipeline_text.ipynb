{
  "nbformat": 4,
  "nbformat_minor": 0,
  "metadata": {
    "colab": {
      "provenance": [],
      "mount_file_id": "1UYb_3MvGhVb2muI3Ik4SkR7-NcM72aYW",
      "authorship_tag": "ABX9TyN9VmkAgt/MR1KIyoEcOJTO",
      "include_colab_link": true
    },
    "kernelspec": {
      "name": "python3",
      "display_name": "Python 3"
    },
    "language_info": {
      "name": "python"
    }
  },
  "cells": [
    {
      "cell_type": "markdown",
      "metadata": {
        "id": "view-in-github",
        "colab_type": "text"
      },
      "source": [
        "<a href=\"https://colab.research.google.com/github/nanmaharaj/my-deeplearning-projects/blob/main/tensorflow_input_pipeline_text.ipynb\" target=\"_parent\"><img src=\"https://colab.research.google.com/assets/colab-badge.svg\" alt=\"Open In Colab\"/></a>"
      ]
    },
    {
      "cell_type": "code",
      "execution_count": 79,
      "metadata": {
        "id": "1ocZ5HVCyTLF"
      },
      "outputs": [],
      "source": [
        "import tensorflow as tf"
      ]
    },
    {
      "cell_type": "code",
      "source": [
        "reviews_ds=tf.data.Dataset.list_files('/content/drive/MyDrive/projects/*/*',shuffle=False)"
      ],
      "metadata": {
        "id": "4z02Sw-DFGNe"
      },
      "execution_count": 98,
      "outputs": []
    },
    {
      "cell_type": "code",
      "source": [
        "for file in reviews_ds.take(6):\n",
        "  print(file.numpy())"
      ],
      "metadata": {
        "id": "ThTev6OcFKua",
        "colab": {
          "base_uri": "https://localhost:8080/"
        },
        "outputId": "41c4865e-f707-493c-a12e-5b61be6cf7a9"
      },
      "execution_count": 81,
      "outputs": [
        {
          "output_type": "stream",
          "name": "stdout",
          "text": [
            "b'/content/drive/MyDrive/projects/negative/neg_1.txt'\n",
            "b'/content/drive/MyDrive/projects/negative/neg_2.txt'\n",
            "b'/content/drive/MyDrive/projects/negative/neg_3.txt'\n",
            "b'/content/drive/MyDrive/projects/positive/pos_1.txt'\n",
            "b'/content/drive/MyDrive/projects/positive/pos_2.txt'\n",
            "b'/content/drive/MyDrive/projects/positive/pos_3.txt'\n"
          ]
        }
      ]
    },
    {
      "cell_type": "code",
      "source": [
        "class_names=[\"positive\",\"negative\"]"
      ],
      "metadata": {
        "id": "fvHnQ5QaKQDp"
      },
      "execution_count": 99,
      "outputs": []
    },
    {
      "cell_type": "code",
      "source": [
        "review_count=len(reviews_ds)\n",
        "review_count"
      ],
      "metadata": {
        "colab": {
          "base_uri": "https://localhost:8080/"
        },
        "id": "43WKWSnSKYZ1",
        "outputId": "47162548-87bf-4a94-adf0-41332a5caf84"
      },
      "execution_count": 100,
      "outputs": [
        {
          "output_type": "execute_result",
          "data": {
            "text/plain": [
              "6"
            ]
          },
          "metadata": {},
          "execution_count": 100
        }
      ]
    },
    {
      "cell_type": "code",
      "source": [
        "import os\n",
        "def extract_review_and_label(file_path):\n",
        "    return tf.io.read_file(file_path), tf.strings.split(file_path, os.path.sep)[-2]"
      ],
      "metadata": {
        "id": "cdg7LsDyasIs"
      },
      "execution_count": 101,
      "outputs": []
    },
    {
      "cell_type": "code",
      "source": [
        "reviews_ds1 = reviews_ds.map(extract_review_and_label)\n",
        "for review, label in reviews_ds1:\n",
        "    print(\"Review: \",review.numpy()[:50])\n",
        "    print(\"Label: \",label.numpy())"
      ],
      "metadata": {
        "colab": {
          "base_uri": "https://localhost:8080/"
        },
        "id": "g0QAZdlCa20V",
        "outputId": "3356cf8c-e949-40fe-855e-760b1f2a8f42"
      },
      "execution_count": 102,
      "outputs": [
        {
          "output_type": "stream",
          "name": "stdout",
          "text": [
            "Review:  b\"Basically there's a family where a little boy (Jak\"\n",
            "Label:  b'negative'\n",
            "Review:  b'This show was an amazing, fresh & innovative idea '\n",
            "Label:  b'negative'\n",
            "Review:  b''\n",
            "Label:  b'negative'\n",
            "Review:  b'One of the other reviewers has mentioned that afte'\n",
            "Label:  b'positive'\n",
            "Review:  b'A wonderful little production. <br /><br />The fil'\n",
            "Label:  b'positive'\n",
            "Review:  b''\n",
            "Label:  b'positive'\n"
          ]
        }
      ]
    },
    {
      "cell_type": "code",
      "source": [
        "reviews_ds2 = reviews_ds1.filter(lambda review, label: review!='')\n",
        "for review, label in reviews_ds2:\n",
        "    print(\"Review: \",review.numpy()[:50])\n",
        "    print(\"Label: \",label.numpy())"
      ],
      "metadata": {
        "colab": {
          "base_uri": "https://localhost:8080/"
        },
        "id": "64a7Ejndbxbj",
        "outputId": "71110d1d-af70-46c4-edb6-d548d9d370a3"
      },
      "execution_count": 108,
      "outputs": [
        {
          "output_type": "stream",
          "name": "stdout",
          "text": [
            "Review:  b\"Basically there's a family where a little boy (Jak\"\n",
            "Label:  b'negative'\n",
            "Review:  b'This show was an amazing, fresh & innovative idea '\n",
            "Label:  b'negative'\n",
            "Review:  b'One of the other reviewers has mentioned that afte'\n",
            "Label:  b'positive'\n",
            "Review:  b'A wonderful little production. <br /><br />The fil'\n",
            "Label:  b'positive'\n"
          ]
        }
      ]
    },
    {
      "cell_type": "code",
      "source": [
        "#everything in one line of code:\n",
        "\n",
        "final_ds=reviews_ds.map(extract_review_and_label).filter(lambda review, label: review!='').shuffle(3)\n",
        "for review, label in reviews_ds2:\n",
        "    print(\"Review: \",review.numpy()[:50])\n",
        "    print(\"Label: \",label.numpy())\n"
      ],
      "metadata": {
        "colab": {
          "base_uri": "https://localhost:8080/"
        },
        "id": "bfP58DfVdRAt",
        "outputId": "ee604f42-2f2b-41d2-dd87-8c31b5d73215"
      },
      "execution_count": 109,
      "outputs": [
        {
          "output_type": "stream",
          "name": "stdout",
          "text": [
            "Review:  b\"Basically there's a family where a little boy (Jak\"\n",
            "Label:  b'negative'\n",
            "Review:  b'This show was an amazing, fresh & innovative idea '\n",
            "Label:  b'negative'\n",
            "Review:  b'One of the other reviewers has mentioned that afte'\n",
            "Label:  b'positive'\n",
            "Review:  b'A wonderful little production. <br /><br />The fil'\n",
            "Label:  b'positive'\n"
          ]
        }
      ]
    }
  ]
}